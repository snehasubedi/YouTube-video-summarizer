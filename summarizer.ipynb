{
 "cells": [
  {
   "cell_type": "markdown",
   "metadata": {},
   "source": [
    "# Video Summarization from LLM"
   ]
  },
  {
   "cell_type": "code",
   "execution_count": 38,
   "metadata": {},
   "outputs": [],
   "source": [
    "import warnings\n",
    "warnings.filterwarnings(\"ignore\")"
   ]
  },
  {
   "cell_type": "code",
   "execution_count": 39,
   "metadata": {},
   "outputs": [],
   "source": [
    "# for setting up language model we are using Together.ai because it is open-source and has specialized multimodal models for chat, images, code, and more. \n",
    "\n",
    "import os\n",
    "from dotenv import load_dotenv #loads all env variable\n",
    "from langchain_together import ChatTogether\n",
    "\n",
    "load_dotenv(override= True)\n",
    "\n",
    "llm = ChatTogether(api_key= \"Your_API_KEY\", temperature= 0.0, model = \"meta-llama/Meta-Llama-3.1-8B-Instruct-Turbo\")\n",
    "#temperature controls randomness in response. 0 means deterministic\n",
    " \n"
   ]
  },
  {
   "cell_type": "code",
   "execution_count": 40,
   "metadata": {},
   "outputs": [],
   "source": [
    "from langchain_community.document_loaders import YoutubeLoader #https://python.langchain.com/docs/integrations/document_loaders/youtube_transcript/\n",
    "loader = YoutubeLoader.from_youtube_url(\n",
    "    \"https://www.youtube.com/watch?v=QsYGlZkevEg\", add_video_info=False\n",
    ")\n",
    "data = loader.load()"
   ]
  },
  {
   "cell_type": "code",
   "execution_count": 41,
   "metadata": {},
   "outputs": [
    {
     "data": {
      "text/plain": [
       "'LADIES AND GENTLEMEN, PEDRO PASCAL! [ CHEERS AND APPLAUSE ] >> THANK YOU, THANK YOU. THANK YOU VERY MUCH. I\\'M SO EXCITED TO BE HERE. THANK YOU. I SPENT THE LAST YEAR SHOOTING A SHOW CALLED \"THE LAST OF US\" ON HBO. FOR SOME HBO SHOES, YOU GET TO SHOOT IN A FIVE STAR ITALIAN RESORT SURROUNDED BY BEAUTIFUL PEOPLE, BUT I SAID, NO, THAT\\'S TOO EASY. I WANT TO SHOOT IN A FREEZING CANADIAN FOREST WHILE BEING CHASED AROUND BY A GUY WHOSE HEAD LOOKS LIKE A GENITAL WART. IT IS AN HONOR BEING A PART OF THESE HUGE FRANCHISEs LIKE \"GAME OF THRONES\" AND \"STAR WARS,\" BUT I\\'M STILL GETTING USED TO PEOPLE RECOGNIZING ME. THE OTHER DAY, A GUY STOPPED ME ON THE STREET AND SAYS, MY SON LOVES \"THE MANDALORIAN\" AND THE NEXT THING I KNOW, I\\'M FACE TIMING WITH A 6-YEAR-OLD WHO HAS NO IDEA WHO I AM BECAUSE MY CHARACTER WEARS A MASK THE ENTIRE SHOW. THE GUY IS LIKE, DO THE MANDO VOICE, BUT IT\\'S LIKE A BEDROOM VOICE. WITHOUT THE MASK, IT JUST SOUNDS PORNY. PEOPLE WALKING BY ON THE STREET SEE ME WHISPERING TO A 6-YEAR-OLD KID. I CAN BRING YOU IN WARM, OR I CAN BRING YOU IN COLD. EVEN THOUGH I CAME TO THE U.S. WHEN I WAS LITTLE, I WAS BORN IN CHILE, AND I HAVE 34 FIRST COUSINS WHO ARE STILL THERE. THEY\\'RE VERY PROUD OF ME. I KNOW THEY\\'RE PROUD BECAUSE THEY GIVE MY PHONE NUMBER TO EVERY PERSON THEY MEET, WHICH MEANS EVERY DAY, SOMEONE IN SANTIAGO WILL TEXT ME STUFF LIKE, CAN YOU COME TO MY WEDDING, OR CAN YOU SING MY PRIEST HAPPY BIRTHDAY, OR IS BABY YODA MEAN IN REAL LIFE. SO I HAVE TO BE LIKE NO, NO, AND HIS NAME IS GROGU. BUT MY COUSINS WEREN\\'T ALWAYS SO PROUD. EARLY IN MY CAREER, I PLAYED SMALL PARTS IN EVERY CRIME SHOW. I EVEN PLAYED TWO DIFFERENT CHARACTERS ON \"LAW AND ORDER.\" TITO CABASSA WHO LOOKED LIKE THIS. AND ONE YEAR LATER, I PLAYED REGGIE LUCKMAN WHO LOOKS LIKE THIS. AND THAT, MY FRIENDS, IS CALLED RANGE. BUT IT IS AMAZING TO BE HERE, LIKE I SAID. I WAS BORN IN CHILE, AND NINE MONTHS LATER, MY PARENTS FLED AND BROUGHT ME AND MY SISTER TO THE U.S. THEY WERE SO BRAVE, AND WITHOUT THEM, I WOULDN\\'T BE HERE IN THIS WONDERFUL COUNTRY, AND I CERTAINLY WOULDN\\'T BE STANDING HERE WITH YOU ALL TONIGHT. SO TO ALL MY FAMILY WATCHING IN CHILE, I WANT TO SAY [ SPEAKING NON-ENGLISH ] WHICH MEANS, I LOVE YOU, I MISS YOU, AND STOP GIVING OUT MY PHONE NUMBER. WE\\'VE GOT AN AMAZING SHOW FOR YOU TONIGHT. COLDPLAY IS HERE, SO STICK'"
      ]
     },
     "execution_count": 41,
     "metadata": {},
     "output_type": "execute_result"
    }
   ],
   "source": [
    "data[0].page_content"
   ]
  },
  {
   "cell_type": "code",
   "execution_count": 42,
   "metadata": {},
   "outputs": [
    {
     "data": {
      "text/plain": [
       "AIMessage(content='The YouTube link appears to be a clip from an award show where Pedro Pascal is being honored. Here\\'s a summary of the clip:\\n\\nPedro Pascal thanks the audience and expresses his excitement to be there. He talks about his recent work on the HBO show \"The Last of Us,\" which he shot in a freezing Canadian forest. He also mentions being part of other huge franchises like \"Game of Thrones\" and \"Star Wars.\"\\n\\nPascal shares a funny anecdote about being recognized by a fan who stopped him on the street and FaceTimed with his 6-year-old son, who was a fan of \"The Mandalorian.\" He also talks about his Chilean heritage and his 34 first cousins who are still in Chile.\\n\\nHe mentions that his cousins weren\\'t always proud of him, as he started his career playing small parts in crime shows, including two different characters on \"Law and Order.\" However, he\\'s grateful to be where he is today and thanks his parents for their bravery in fleeing Chile and bringing him to the US.\\n\\nPascal ends his speech by thanking his family in Chile and expressing his love for them, while also jokingly asking them to stop giving out his phone number.\\n\\nNo specific data is mentioned in the clip.', additional_kwargs={'refusal': None}, response_metadata={'token_usage': {'completion_tokens': 251, 'prompt_tokens': 810, 'total_tokens': 1061, 'completion_tokens_details': None, 'prompt_tokens_details': None}, 'model_name': 'meta-llama/Meta-Llama-3.1-8B-Instruct-Turbo', 'system_fingerprint': None, 'finish_reason': 'eos', 'logprobs': None}, id='run-155d4e43-fadd-41fc-89ce-97c7a29257ec-0', usage_metadata={'input_tokens': 810, 'output_tokens': 251, 'total_tokens': 1061, 'input_token_details': {}, 'output_token_details': {}})"
      ]
     },
     "execution_count": 42,
     "metadata": {},
     "output_type": "execute_result"
    }
   ],
   "source": [
    "messages = [(\"system\",\n",
    "             ''' provide summary of the youtube link provided. If data is given then donot forget to mention it ''' \n",
    "             ,),\n",
    "            (\"human\", data[0].page_content),]\n",
    "\n",
    "ai_msg=llm.invoke(messages)\n",
    "ai_msg"
   ]
  },
  {
   "cell_type": "code",
   "execution_count": 43,
   "metadata": {},
   "outputs": [],
   "source": [
    "# Invoking prompt template \n",
    "# consists of: template string for main instructions \n",
    "#              input variables for direct pass of youtube transcript as i/p"
   ]
  },
  {
   "cell_type": "code",
   "execution_count": 44,
   "metadata": {},
   "outputs": [],
   "source": [
    "from langchain.prompts import PromptTemplate\n",
    "from langchain import LLMChain\n",
    "\n",
    "summariser_template = PromptTemplate(\n",
    "\n",
    "    input_variables= [\"video_transcript\"],\n",
    "    template= \"\"\" provide summary of the youtube link provided. \n",
    "    If data is given then donot forget to mention it\n",
    "    Video transcript : {video_transcript}\n",
    "     \"\"\"\n",
    "    \n",
    ")"
   ]
  },
  {
   "cell_type": "code",
   "execution_count": 45,
   "metadata": {},
   "outputs": [],
   "source": [
    "# using llmchain for summarization\n",
    "\n",
    "chain = LLMChain(llm=llm,prompt = summariser_template) #to invoke chain with video transcript\n",
    "\n",
    "summary = chain.invoke({\n",
    "    \"video_transcript\": data[0].page_content\n",
    "})"
   ]
  },
  {
   "cell_type": "code",
   "execution_count": 46,
   "metadata": {},
   "outputs": [
    {
     "data": {
      "text/plain": [
       "'The YouTube link provided is a video of Pedro Pascal, an actor known for his roles in \"The Last of Us\" and \"The Mandalorian.\" \\n\\nSummary of the video:\\n\\nPedro Pascal expresses his gratitude for being at the event and talks about his recent projects, including \"The Last of Us\" on HBO. He shares a humorous anecdote about being recognized by a fan who stopped him on the street and FaceTimed with his 6-year-old son, who is a fan of \"The Mandalorian.\"\\n\\nPascal also talks about his background, being born in Chile and moving to the US with his parents at a young age. He mentions that his 34 first cousins in Chile are very proud of him and often text him, asking for favors.\\n\\nHe also shares a lighthearted story about his early career, playing small parts in crime shows, including two different characters on \"Law and Order.\" He jokes about the concept of \"range\" in acting.\\n\\nPascal expresses his gratitude to his parents for their bravery in fleeing Chile and bringing him and his sister to the US. He ends by speaking in Spanish to his family in Chile, saying \"I love you, I miss you, and stop giving out my phone number.\"\\n\\nData: \\n- Pedro Pascal was born in Chile.\\n- He has 34 first cousins in Chile.\\n- He played two different characters on \"Law and Order\" within a year of each other.\\n- He has been a part of huge franchises like \"Game of Thrones\" and \"Star Wars.\"\\n- He has been a part of shows like \"The Last of Us\" and \"The Mandalorian.\"'"
      ]
     },
     "execution_count": 46,
     "metadata": {},
     "output_type": "execute_result"
    }
   ],
   "source": [
    "summary['text']"
   ]
  },
  {
   "cell_type": "code",
   "execution_count": 47,
   "metadata": {},
   "outputs": [
    {
     "data": {
      "text/markdown": [
       "The YouTube link provided is a video of Pedro Pascal, an actor known for his roles in \"The Last of Us\" and \"The Mandalorian.\" \n",
       "\n",
       "Summary of the video:\n",
       "\n",
       "Pedro Pascal expresses his gratitude for being at the event and talks about his recent projects, including \"The Last of Us\" on HBO. He shares a humorous anecdote about being recognized by a fan who stopped him on the street and FaceTimed with his 6-year-old son, who is a fan of \"The Mandalorian.\"\n",
       "\n",
       "Pascal also talks about his background, being born in Chile and moving to the US with his parents at a young age. He mentions that his 34 first cousins in Chile are very proud of him and often text him, asking for favors.\n",
       "\n",
       "He also shares a lighthearted story about his early career, playing small parts in crime shows, including two different characters on \"Law and Order.\" He jokes about the concept of \"range\" in acting.\n",
       "\n",
       "Pascal expresses his gratitude to his parents for their bravery in fleeing Chile and bringing him and his sister to the US. He ends by speaking in Spanish to his family in Chile, saying \"I love you, I miss you, and stop giving out my phone number.\"\n",
       "\n",
       "Data: \n",
       "- Pedro Pascal was born in Chile.\n",
       "- He has 34 first cousins in Chile.\n",
       "- He played two different characters on \"Law and Order\" within a year of each other.\n",
       "- He has been a part of huge franchises like \"Game of Thrones\" and \"Star Wars.\"\n",
       "- He has been a part of shows like \"The Last of Us\" and \"The Mandalorian.\""
      ],
      "text/plain": [
       "<IPython.core.display.Markdown object>"
      ]
     },
     "metadata": {},
     "output_type": "display_data"
    }
   ],
   "source": [
    "from IPython.display import Markdown, display\n",
    "\n",
    "display (Markdown(summary['text']))"
   ]
  }
 ],
 "metadata": {
  "kernelspec": {
   "display_name": "'llm'",
   "language": "python",
   "name": "python3"
  },
  "language_info": {
   "codemirror_mode": {
    "name": "ipython",
    "version": 3
   },
   "file_extension": ".py",
   "mimetype": "text/x-python",
   "name": "python",
   "nbconvert_exporter": "python",
   "pygments_lexer": "ipython3",
   "version": "3.12.3"
  }
 },
 "nbformat": 4,
 "nbformat_minor": 2
}
